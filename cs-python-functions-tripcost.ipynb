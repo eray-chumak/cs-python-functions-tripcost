{
 "cells": [
  {
   "cell_type": "markdown",
   "metadata": {},
   "source": [
    "## Write a program to calculate the trip costs.\n",
    "\n",
    "a) use appropriate variable, constant and function names.\n",
    "b) don't forget to put comments in the code.\n",
    "c) In comments for each function, do mention the purpose the function, the input parameters and the return value from the function\n"
   ]
  },
  {
   "cell_type": "code",
   "execution_count": 15,
   "metadata": {},
   "outputs": [],
   "source": [
    "class Options:\n",
    "    all = [\"Holiday Inn\", \"Hilton\", \"Marriott\"]\n",
    "    def get_price(option):\n",
    "        if (option == \"Holiday Inn\"):\n",
    "            return 50\n",
    "        elif (option == \"Hilton\"):\n",
    "            return 90\n",
    "        elif (option == \"Marriott\"):\n",
    "            return 120\n",
    "        else:\n",
    "            return \"Unknown option.\"\n",
    "\n",
    "options = Options()\n",
    "# purpose: to calculate the hotel costs for the number of nights the user what to stay\n",
    "# input parameters:  nights - number of nights to book\n",
    "# return: returns the hotel cost for the number of nights the user wants to stay\n",
    "def hotel_cost(nights, option):\n",
    "    total = nights * 90\n",
    "    for o in options:\n",
    "        if option == o:\n",
    "            return options.get_price(option) * nights\n",
    "        else:\n",
    "            print(\"Unknown option.\")\n",
    "\n",
    "\n",
    "def plane_ride_cost(city):\n",
    "    if city == \"Madrid\":\n",
    "        return 270\n",
    "    elif city == \"Paris\":\n",
    "        return 280\n",
    "    elif city == \"Berlin\":\n",
    "        return 220\n",
    "    elif city == \"Edinburgh\":\n",
    "        return 150\n",
    "\n",
    "def rental_car_cost(days):\n",
    "    cost = days * 40\n",
    "    if (days > 7):\n",
    "        cost -= 50\n",
    "    if (days > 3 and days < 6):\n",
    "        cost -= 20\n",
    "    return cost\n",
    "\n",
    "def trip_cost(city, days):\n",
    "    print(rental_car_cost(days) + hotel_cost(days) + plane_ride_cost(city))"
   ]
  },
  {
   "cell_type": "code",
   "execution_count": null,
   "metadata": {},
   "outputs": [],
   "source": [
    "nights = input(\"Enter nights:\")\n",
    "city = input(\"Enter city:\")\n",
    "days = input (\"Enter days of car rental:\")\n",
    "\n"
   ]
  }
 ],
 "metadata": {
  "kernelspec": {
   "display_name": "Python 3",
   "language": "python",
   "name": "python3"
  },
  "language_info": {
   "codemirror_mode": {
    "name": "ipython",
    "version": 3
   },
   "file_extension": ".py",
   "mimetype": "text/x-python",
   "name": "python",
   "nbconvert_exporter": "python",
   "pygments_lexer": "ipython3",
   "version": "3.6.6"
  }
 },
 "nbformat": 4,
 "nbformat_minor": 2
}
